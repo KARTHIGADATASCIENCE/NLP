{
 "cells": [
  {
   "cell_type": "code",
   "execution_count": 1,
   "id": "67a9fb3a",
   "metadata": {
    "_cell_guid": "b1076dfc-b9ad-4769-8c92-a6c4dae69d19",
    "_uuid": "8f2839f25d086af736a60e9eeb907d3b93b6e0e5",
    "execution": {
     "iopub.execute_input": "2025-07-30T04:13:02.777878Z",
     "iopub.status.busy": "2025-07-30T04:13:02.777552Z",
     "iopub.status.idle": "2025-07-30T04:13:05.654758Z",
     "shell.execute_reply": "2025-07-30T04:13:05.653810Z"
    },
    "papermill": {
     "duration": 2.883576,
     "end_time": "2025-07-30T04:13:05.656582",
     "exception": false,
     "start_time": "2025-07-30T04:13:02.773006",
     "status": "completed"
    },
    "tags": []
   },
   "outputs": [],
   "source": [
    "from nltk.wsd import lesk"
   ]
  },
  {
   "cell_type": "code",
   "execution_count": 2,
   "id": "c25a4d9d",
   "metadata": {
    "execution": {
     "iopub.execute_input": "2025-07-30T04:13:05.663577Z",
     "iopub.status.busy": "2025-07-30T04:13:05.663183Z",
     "iopub.status.idle": "2025-07-30T04:13:05.668152Z",
     "shell.execute_reply": "2025-07-30T04:13:05.666972Z"
    },
    "papermill": {
     "duration": 0.010216,
     "end_time": "2025-07-30T04:13:05.669997",
     "exception": false,
     "start_time": "2025-07-30T04:13:05.659781",
     "status": "completed"
    },
    "tags": []
   },
   "outputs": [],
   "source": [
    "from nltk.tokenize import word_tokenize"
   ]
  },
  {
   "cell_type": "code",
   "execution_count": 3,
   "id": "88ee7ac3",
   "metadata": {
    "execution": {
     "iopub.execute_input": "2025-07-30T04:13:05.676818Z",
     "iopub.status.busy": "2025-07-30T04:13:05.676157Z",
     "iopub.status.idle": "2025-07-30T04:13:05.681099Z",
     "shell.execute_reply": "2025-07-30T04:13:05.679790Z"
    },
    "papermill": {
     "duration": 0.01008,
     "end_time": "2025-07-30T04:13:05.682751",
     "exception": false,
     "start_time": "2025-07-30T04:13:05.672671",
     "status": "completed"
    },
    "tags": []
   },
   "outputs": [],
   "source": [
    "sent=\"I went to the bank to deposit money.\""
   ]
  },
  {
   "cell_type": "code",
   "execution_count": 4,
   "id": "dc43282f",
   "metadata": {
    "execution": {
     "iopub.execute_input": "2025-07-30T04:13:05.690105Z",
     "iopub.status.busy": "2025-07-30T04:13:05.688870Z",
     "iopub.status.idle": "2025-07-30T04:13:05.735959Z",
     "shell.execute_reply": "2025-07-30T04:13:05.733945Z"
    },
    "papermill": {
     "duration": 0.052631,
     "end_time": "2025-07-30T04:13:05.737982",
     "exception": false,
     "start_time": "2025-07-30T04:13:05.685351",
     "status": "completed"
    },
    "tags": []
   },
   "outputs": [],
   "source": [
    "tokens=word_tokenize(sent)"
   ]
  },
  {
   "cell_type": "code",
   "execution_count": 5,
   "id": "6bfd7557",
   "metadata": {
    "execution": {
     "iopub.execute_input": "2025-07-30T04:13:05.744649Z",
     "iopub.status.busy": "2025-07-30T04:13:05.744310Z",
     "iopub.status.idle": "2025-07-30T04:13:09.316176Z",
     "shell.execute_reply": "2025-07-30T04:13:09.315155Z"
    },
    "papermill": {
     "duration": 3.577344,
     "end_time": "2025-07-30T04:13:09.318098",
     "exception": false,
     "start_time": "2025-07-30T04:13:05.740754",
     "status": "completed"
    },
    "tags": []
   },
   "outputs": [],
   "source": [
    "sense=lesk(tokens,'bank')"
   ]
  },
  {
   "cell_type": "code",
   "execution_count": 6,
   "id": "bccd58a6",
   "metadata": {
    "execution": {
     "iopub.execute_input": "2025-07-30T04:13:09.324310Z",
     "iopub.status.busy": "2025-07-30T04:13:09.324007Z",
     "iopub.status.idle": "2025-07-30T04:13:09.328587Z",
     "shell.execute_reply": "2025-07-30T04:13:09.327751Z"
    },
    "papermill": {
     "duration": 0.009853,
     "end_time": "2025-07-30T04:13:09.330568",
     "exception": false,
     "start_time": "2025-07-30T04:13:09.320715",
     "status": "completed"
    },
    "tags": []
   },
   "outputs": [
    {
     "name": "stdout",
     "output_type": "stream",
     "text": [
      "Definition: a container (usually with a slot in the top) for keeping money at home\n"
     ]
    }
   ],
   "source": [
    "print(\"Definition:\", sense.definition())"
   ]
  },
  {
   "cell_type": "markdown",
   "id": "37f43953",
   "metadata": {
    "papermill": {
     "duration": 0.002235,
     "end_time": "2025-07-30T04:13:09.335445",
     "exception": false,
     "start_time": "2025-07-30T04:13:09.333210",
     "status": "completed"
    },
    "tags": []
   },
   "source": [
    "## Advanced WSD with multiple words"
   ]
  },
  {
   "cell_type": "code",
   "execution_count": 7,
   "id": "f687460e",
   "metadata": {
    "execution": {
     "iopub.execute_input": "2025-07-30T04:13:09.341879Z",
     "iopub.status.busy": "2025-07-30T04:13:09.341586Z",
     "iopub.status.idle": "2025-07-30T04:13:09.346384Z",
     "shell.execute_reply": "2025-07-30T04:13:09.345391Z"
    },
    "papermill": {
     "duration": 0.009872,
     "end_time": "2025-07-30T04:13:09.347929",
     "exception": false,
     "start_time": "2025-07-30T04:13:09.338057",
     "status": "completed"
    },
    "tags": []
   },
   "outputs": [],
   "source": [
    "sent=['The crane is flying','He used a crane to lift the load .']"
   ]
  },
  {
   "cell_type": "code",
   "execution_count": 8,
   "id": "52db4c0f",
   "metadata": {
    "execution": {
     "iopub.execute_input": "2025-07-30T04:13:09.354398Z",
     "iopub.status.busy": "2025-07-30T04:13:09.354067Z",
     "iopub.status.idle": "2025-07-30T04:13:09.360684Z",
     "shell.execute_reply": "2025-07-30T04:13:09.359442Z"
    },
    "papermill": {
     "duration": 0.011834,
     "end_time": "2025-07-30T04:13:09.362413",
     "exception": false,
     "start_time": "2025-07-30T04:13:09.350579",
     "status": "completed"
    },
    "tags": []
   },
   "outputs": [
    {
     "name": "stdout",
     "output_type": "stream",
     "text": [
      "sentence: The crane is flying\n",
      "sense: Synset('crane.n.04')\n",
      "Definition: lifts and moves heavy objects; lifting tackle is suspended from a pivoted boom that rotates around a vertical axis\n",
      "sentence: He used a crane to lift the load .\n",
      "sense: Synset('grus.n.01')\n",
      "Definition: a small constellation in the southern hemisphere near Phoenix\n"
     ]
    }
   ],
   "source": [
    "for i in sent:\n",
    "    tokens=word_tokenize(i)\n",
    "    sense=lesk(tokens,'crane')\n",
    "    print(\"sentence:\",i)\n",
    "    print(\"sense:\",sense)\n",
    "    print(\"Definition:\",sense.definition())"
   ]
  },
  {
   "cell_type": "code",
   "execution_count": null,
   "id": "93e2642b",
   "metadata": {
    "papermill": {
     "duration": 0.002285,
     "end_time": "2025-07-30T04:13:09.367422",
     "exception": false,
     "start_time": "2025-07-30T04:13:09.365137",
     "status": "completed"
    },
    "tags": []
   },
   "outputs": [],
   "source": []
  }
 ],
 "metadata": {
  "kaggle": {
   "accelerator": "none",
   "dataSources": [],
   "dockerImageVersionId": 31089,
   "isGpuEnabled": false,
   "isInternetEnabled": true,
   "language": "python",
   "sourceType": "notebook"
  },
  "kernelspec": {
   "display_name": "Python 3",
   "language": "python",
   "name": "python3"
  },
  "language_info": {
   "codemirror_mode": {
    "name": "ipython",
    "version": 3
   },
   "file_extension": ".py",
   "mimetype": "text/x-python",
   "name": "python",
   "nbconvert_exporter": "python",
   "pygments_lexer": "ipython3",
   "version": "3.11.13"
  },
  "papermill": {
   "default_parameters": {},
   "duration": 13.268824,
   "end_time": "2025-07-30T04:13:10.493939",
   "environment_variables": {},
   "exception": null,
   "input_path": "__notebook__.ipynb",
   "output_path": "__notebook__.ipynb",
   "parameters": {},
   "start_time": "2025-07-30T04:12:57.225115",
   "version": "2.6.0"
  }
 },
 "nbformat": 4,
 "nbformat_minor": 5
}
